{
 "cells": [
  {
   "cell_type": "code",
   "execution_count": 7,
   "id": "fe4a53bf",
   "metadata": {},
   "outputs": [],
   "source": [
    "#load file\n",
    "input_file = \"/home/ouyassine/Documents/projects/RMA_SIG_app/data_ingestion/raw_data/cities_with_coordinates.csv\""
   ]
  },
  {
   "cell_type": "code",
   "execution_count": 8,
   "id": "5b2ce09a",
   "metadata": {},
   "outputs": [],
   "source": [
    "import csv\n",
    "\n",
    "def remove_not_found_rows(input_csv, output_csv):\n",
    "    with open(input_csv, mode='r', encoding='utf-8') as infile, \\\n",
    "         open(output_csv, mode='w', encoding='utf-8', newline='') as outfile:\n",
    "        \n",
    "        reader = csv.DictReader(infile)\n",
    "        fieldnames = reader.fieldnames\n",
    "        writer = csv.DictWriter(outfile, fieldnames=fieldnames)\n",
    "        \n",
    "        writer.writeheader()\n",
    "\n",
    "        for row in reader:\n",
    "            lat = row['Latitude'].strip().lower()\n",
    "            lon = row['Longitude'].strip().lower()\n",
    "\n",
    "            # Keep only rows where lat and lon are not \"not found\"\n",
    "            if lat != 'not found' and lon != 'not found':\n",
    "                writer.writerow(row)\n",
    "\n",
    "    print(f\"Cleaned CSV written to {output_csv}\")\n"
   ]
  },
  {
   "cell_type": "code",
   "execution_count": 9,
   "id": "b2759ac9",
   "metadata": {},
   "outputs": [
    {
     "name": "stdout",
     "output_type": "stream",
     "text": [
      "Cleaned CSV written to cities_cleaned.csv\n"
     ]
    }
   ],
   "source": [
    "remove_not_found_rows(input_file,'cities_cleaned.csv')"
   ]
  },
  {
   "cell_type": "code",
   "execution_count": null,
   "id": "f38037af",
   "metadata": {},
   "outputs": [],
   "source": []
  }
 ],
 "metadata": {
  "kernelspec": {
   "display_name": "Python 3",
   "language": "python",
   "name": "python3"
  },
  "language_info": {
   "codemirror_mode": {
    "name": "ipython",
    "version": 3
   },
   "file_extension": ".py",
   "mimetype": "text/x-python",
   "name": "python",
   "nbconvert_exporter": "python",
   "pygments_lexer": "ipython3",
   "version": "3.10.16"
  }
 },
 "nbformat": 4,
 "nbformat_minor": 5
}
