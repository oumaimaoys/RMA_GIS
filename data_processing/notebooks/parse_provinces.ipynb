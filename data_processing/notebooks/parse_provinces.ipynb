{
 "cells": [
  {
   "cell_type": "code",
   "execution_count": 1,
   "id": "6c063803",
   "metadata": {},
   "outputs": [],
   "source": [
    "file = \"/home/ouyassine/Documents/projects/RMA_SIG_app/data_ingestion/raw_data/population_raw.csv\""
   ]
  },
  {
   "cell_type": "code",
   "execution_count": 2,
   "id": "3bed3c76",
   "metadata": {},
   "outputs": [],
   "source": [
    "import pandas as pd\n",
    "\n",
    "# Load the CSV\n",
    "df = pd.read_csv(file)\n",
    "\n",
    "# Select only certain columns\n",
    "selected_columns = df[[\"Collectivités territoriales\",\"Population\"]]\n",
    "\n",
    "# Save to new CSV\n",
    "\n",
    "selected_columns.to_csv(\"population_per_province.csv\", index=False)\n"
   ]
  },
  {
   "cell_type": "code",
   "execution_count": null,
   "id": "99b138f3",
   "metadata": {},
   "outputs": [],
   "source": []
  }
 ],
 "metadata": {
  "kernelspec": {
   "display_name": "Python 3",
   "language": "python",
   "name": "python3"
  },
  "language_info": {
   "codemirror_mode": {
    "name": "ipython",
    "version": 3
   },
   "file_extension": ".py",
   "mimetype": "text/x-python",
   "name": "python",
   "nbconvert_exporter": "python",
   "pygments_lexer": "ipython3",
   "version": "3.10.16"
  }
 },
 "nbformat": 4,
 "nbformat_minor": 5
}
